{
 "cells": [
  {
   "cell_type": "markdown",
   "metadata": {
    "id": "2X2tPal4xF5R"
   },
   "source": [
    "# Data Science Tools and Ecosystem\n"
   ]
  },
  {
   "cell_type": "markdown",
   "metadata": {
    "id": "zd_fHn-NxKU7"
   },
   "source": [
    "En este cuaderno, se resumen las herramientas y ecosistemas de ciencia de datos."
   ]
  },
  {
   "cell_type": "markdown",
   "metadata": {
    "id": "w4lzhBLYxR2M"
   },
   "source": [
    "**Algunos de los lenguajes populares que utilizan los científicos de datos son:**"
   ]
  },
  {
   "cell_type": "markdown",
   "metadata": {
    "id": "7vnuS4WHyJ63"
   },
   "source": [
    "\n",
    "\n",
    "*   Python\n",
    "*   R\n",
    "*   julia\n",
    "\n",
    "\n",
    "\n",
    "\n"
   ]
  },
  {
   "cell_type": "markdown",
   "metadata": {
    "id": "BXTHUitAyrpr"
   },
   "source": [
    "**Algunas de las bibliotecas comúnmente utilizadas por los científicos de datos incluyen**:"
   ]
  },
  {
   "cell_type": "markdown",
   "metadata": {
    "id": "w5zG_S3eyaPr"
   },
   "source": [
    "\n",
    "\n",
    "*   Pandas\n",
    "*   numpy\n",
    "*   Tensorflow\n",
    "*   pytorch\n",
    "\n",
    "\n",
    "\n",
    "\n"
   ]
  },
  {
   "cell_type": "markdown",
   "metadata": {},
   "source": [
    "|Data Science Tools|\n",
    "|-|\n",
    "|Jupyter Notebook|\n",
    "|RStudio|\n",
    "|Apache Spark|\n"
   ]
  },
  {
   "cell_type": "markdown",
   "metadata": {},
   "source": [
    "### A continuación, se presentan algunos ejemplos de evaluación de expresiones aritméticas en Python"
   ]
  },
  {
   "cell_type": "code",
   "execution_count": 3,
   "metadata": {
    "id": "1993jLDy0HF0"
   },
   "outputs": [
    {
     "name": "stdout",
     "output_type": "stream",
     "text": [
      "17\n",
      "True\n"
     ]
    }
   ],
   "source": [
    "#esta es una expresión aritmética simple para multiplicar y luego sumar enteros\n",
    "resultado = (3*4)+5\n",
    "print(resultado)\n",
    "print(resultado==17)"
   ]
  },
  {
   "cell_type": "code",
   "execution_count": 5,
   "metadata": {
    "id": "0Q2iPEUv0MrK"
   },
   "outputs": [
    {
     "name": "stdout",
     "output_type": "stream",
     "text": [
      "3.3333333333333335\n"
     ]
    }
   ],
   "source": [
    "#Esto convertirá 200 minutos a horas dividiendo por 60.\n",
    "print(200 / 60)"
   ]
  },
  {
   "cell_type": "markdown",
   "metadata": {},
   "source": [
    "**Objectivos:**\n",
    "lista de lenguajes populares para ciencia de datos.\n",
    "- Python \n",
    "- SQL\n",
    "- R"
   ]
  },
  {
   "cell_type": "markdown",
   "metadata": {},
   "source": [
    "## Autor"
   ]
  },
  {
   "cell_type": "raw",
   "metadata": {},
   "source": [
    "javier silva"
   ]
  },
  {
   "cell_type": "code",
   "execution_count": null,
   "metadata": {},
   "outputs": [],
   "source": []
  }
 ],
 "metadata": {
  "colab": {
   "provenance": []
  },
  "kernelspec": {
   "display_name": "Python 3 (ipykernel)",
   "language": "python",
   "name": "python3"
  },
  "language_info": {
   "codemirror_mode": {
    "name": "ipython",
    "version": 3
   },
   "file_extension": ".py",
   "mimetype": "text/x-python",
   "name": "python",
   "nbconvert_exporter": "python",
   "pygments_lexer": "ipython3",
   "version": "3.12.8"
  }
 },
 "nbformat": 4,
 "nbformat_minor": 4
}
